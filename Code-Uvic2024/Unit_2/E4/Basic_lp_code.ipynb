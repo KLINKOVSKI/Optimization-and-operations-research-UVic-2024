{
 "cells": [
  {
   "cell_type": "code",
   "execution_count": 6,
   "id": "553ec70f-16f3-4eeb-bf6b-4c87eab1ff95",
   "metadata": {},
   "outputs": [],
   "source": [
    "from ortools.linear_solver import pywraplp\n",
    "\n",
    "def solve_lp(c, A, b):\n",
    "    solver = pywraplp.Solver.CreateSolver('GLOP')\n",
    "    infinity = solver.infinity()\n",
    "    \n",
    "    # Define variables\n",
    "    x = [solver.NumVar(0, infinity, f'x{i+1}') for i in range(len(c))]\n",
    "    \n",
    "    # Define constraints\n",
    "    for i in range(len(A)):\n",
    "        constraint_expr = [A[i][j] * x[j] for j in range(len(c))]\n",
    "        solver.Add(sum(constraint_expr) <= b[i])\n",
    "    \n",
    "    # Define objective function\n",
    "    objective = solver.Objective()\n",
    "    for i in range(len(c)):\n",
    "        objective.SetCoefficient(x[i], c[i])\n",
    "    objective.SetMaximization()\n",
    "    \n",
    "    # Solve the problem\n",
    "    status = solver.Solve()\n",
    "    \n",
    "    if status == pywraplp.Solver.OPTIMAL or status == pywraplp.Solver.FEASIBLE:\n",
    "        # Retrieve the optimal value\n",
    "        optimal_value = solver.Objective().Value()\n",
    "        \n",
    "        # Retrieve the optimal solution\n",
    "        solution = [x[i].solution_value() for i in range(len(c))]\n",
    "        \n",
    "        # Check for multiple solutions by perturbing the objective slightly and re-solving\n",
    "        for i in range(len(c)):\n",
    "            original_coefficient = objective.GetCoefficient(x[i])\n",
    "            objective.SetCoefficient(x[i], original_coefficient + 1e-4)\n",
    "        solver.Solve()\n",
    "        \n",
    "        new_solution = [x[i].solution_value() for i in range(len(c))]\n",
    "        if new_solution != solution:\n",
    "            print(\"Multiple optimal solutions detected.\")\n",
    "        else:\n",
    "            print(\"Unique optimal solution detected.\")\n",
    "        \n",
    "        # Reset the objective to original\n",
    "        for i in range(len(c)):\n",
    "            objective.SetCoefficient(x[i], c[i])\n",
    "        \n",
    "        return solution, optimal_value, \"Optimal solution found.\"\n",
    "    else:\n",
    "        return None, None, \"Solver did not converge to an optimal solution.\""
   ]
  },
  {
   "cell_type": "code",
   "execution_count": 7,
   "id": "ff2e4de6-016f-41eb-b987-d800be56db94",
   "metadata": {},
   "outputs": [
    {
     "name": "stdout",
     "output_type": "stream",
     "text": [
      "Unique optimal solution detected.\n",
      "Exercise 1:\n",
      "Status: Optimal solution found.\n",
      "Solution: [6.0, 4.0]\n",
      "Optimal Value: 22.0\n"
     ]
    }
   ],
   "source": [
    "#Unique optimal feasible solution\n",
    "\n",
    "# Define coefficients of the objective function\n",
    "c_ex1 = [3, 1]\n",
    "\n",
    "# Define the constraint matrix\n",
    "A_ex1 = [[0, 1], [1, 1], [1, -1]]\n",
    "\n",
    "# Define the right-hand side vector\n",
    "b_ex1 = [5, 10, 2]\n",
    "\n",
    "# Solve the LP problem\n",
    "solution_ex1, optimal_value_ex1, status_ex1 = solve_lp(c_ex1, A_ex1, b_ex1)\n",
    "\n",
    "# Print the solution, optimal value, and solver status\n",
    "print(\"Exercise 1:\")\n",
    "print(\"Status:\", status_ex1)\n",
    "print(\"Solution:\", solution_ex1)\n",
    "print(\"Optimal Value:\", optimal_value_ex1)"
   ]
  },
  {
   "cell_type": "code",
   "execution_count": 8,
   "id": "8652909f-70f1-494b-b7bc-b30712a4558c",
   "metadata": {},
   "outputs": [
    {
     "name": "stdout",
     "output_type": "stream",
     "text": [
      "Multiple optimal solutions detected.\n",
      "Exercise 2:\n",
      "Status: Optimal solution found.\n",
      "Solution: [1.3333333333333333, 3.3333333333333335]\n",
      "Optimal Value: 8.0\n"
     ]
    }
   ],
   "source": [
    "#Multiple optimal feasible solutions\n",
    "# Define coefficients of the objective function\n",
    "c_ex = [1, 2]\n",
    "\n",
    "# Define the constraint matrix\n",
    "A_ex = [[-1, 1], [1, 2], [1, 0]]\n",
    "\n",
    "# Define the right-hand side vector\n",
    "b_ex = [2, 8, 6]\n",
    "\n",
    "# Solve the LP problem\n",
    "solution_ex, optimal_value_ex, status_ex = solve_lp(c_ex, A_ex, b_ex)\n",
    "\n",
    "# Print the solution, optimal value, and solver status\n",
    "print(\"Exercise 2:\")\n",
    "print(\"Status:\", status_ex)\n",
    "print(\"Solution:\", solution_ex)\n",
    "print(\"Optimal Value:\", optimal_value_ex)"
   ]
  },
  {
   "cell_type": "code",
   "execution_count": 9,
   "id": "5f26537e-33d5-4c99-be73-c61c724ffa3f",
   "metadata": {},
   "outputs": [
    {
     "name": "stdout",
     "output_type": "stream",
     "text": [
      "Exercise 3:\n",
      "Status: Solver did not converge to an optimal solution.\n",
      "Solution: None\n",
      "Optimal Value: None\n"
     ]
    }
   ],
   "source": [
    "c_ex3 = [3, 1]\n",
    "A_ex3 = [[-1, -1], [-1, 1], [1, -2]]\n",
    "b_ex3 = [-4, 4, 4]\n",
    "solution_ex3, optimal_value_ex3, status_ex3 = solve_lp(c_ex3, A_ex3, b_ex3)\n",
    "print(\"Exercise 3:\")\n",
    "print(\"Status:\", status_ex3)\n",
    "print(\"Solution:\", solution_ex3)\n",
    "print(\"Optimal Value:\", optimal_value_ex3)"
   ]
  },
  {
   "cell_type": "code",
   "execution_count": null,
   "id": "791e00c0-ca63-49a7-abcd-c670b310d26e",
   "metadata": {},
   "outputs": [],
   "source": []
  }
 ],
 "metadata": {
  "kernelspec": {
   "display_name": "Python 3 (ipykernel)",
   "language": "python",
   "name": "python3"
  },
  "language_info": {
   "codemirror_mode": {
    "name": "ipython",
    "version": 3
   },
   "file_extension": ".py",
   "mimetype": "text/x-python",
   "name": "python",
   "nbconvert_exporter": "python",
   "pygments_lexer": "ipython3",
   "version": "3.11.5"
  }
 },
 "nbformat": 4,
 "nbformat_minor": 5
}
