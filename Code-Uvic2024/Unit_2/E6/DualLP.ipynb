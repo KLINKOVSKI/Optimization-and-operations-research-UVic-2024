{
 "cells": [
  {
   "cell_type": "code",
   "execution_count": null,
   "metadata": {},
   "outputs": [],
   "source": []
  },
  {
   "cell_type": "markdown",
   "metadata": {},
   "source": [
    "**1. write the dual LP problem** "
   ]
  },
  {
   "cell_type": "markdown",
   "metadata": {},
   "source": [
    "**Given primal LP problem:**"
   ]
  },
  {
   "cell_type": "markdown",
   "metadata": {},
   "source": [
    "\\begin{align*}\n",
    "\\text{maximize} \\quad & x_1 + 4x_2 + 2x_3 \\\\\n",
    "\\text{subject to} \\quad & 5x_1 + 2x_2 + 2x_3 \\leq 145 \\\\\n",
    "& 4x_1 + 8x_2 - 8x_3 \\leq 260 \\\\\n",
    "& x_1 + x_2 + 4x_3 \\leq 190 \\\\\n",
    "& x \\geq 0\n",
    "\\end{align*}"
   ]
  },
  {
   "cell_type": "markdown",
   "metadata": {},
   "source": [
    "**Dual LP problem:**"
   ]
  },
  {
   "cell_type": "markdown",
   "metadata": {},
   "source": [
    "\\begin{align*}\n",
    "\\text{minimize} \\quad & 145y_1 + 260y_2 + 190y_3 \\\\\n",
    "\\text{subject to} \\quad & 5y_1 + 4y_2 + y_3 \\geq 1 \\\\\n",
    "& 2y_1 + 8y_2 + y_3 \\geq 4 \\\\\n",
    "& 2y_1 - 8y_2 + 4y_3 \\geq 2 \\\\\n",
    "& y \\geq 0\n",
    "\\end{align*}"
   ]
  },
  {
   "cell_type": "markdown",
   "metadata": {},
   "source": [
    "**Standard form Dual LP problem:**"
   ]
  },
  {
   "cell_type": "markdown",
   "metadata": {},
   "source": [
    "\\begin{align*}\n",
    "\\text{maximize} \\quad & -145y_1 - 260y_2 - 190y_3 \\\\\n",
    "\\text{subject to} \\quad & 5y_1 + 4y_2 + y_3 - s = 1 \\\\\n",
    "& 2y_1 + 8y_2 + y_3 - t = 4 \\\\\n",
    "& 2y_1 - 8y_2 + 4y_3 - u = 2 \\\\\n",
    "& y \\geq 0\n",
    "\\end{align*}"
   ]
  },
  {
   "cell_type": "markdown",
   "metadata": {},
   "source": [
    "**2. verify that  $Q=(x_1,x_2,x_3)=(0,52.5,20)$ is a feasible solution for the primal**"
   ]
  },
  {
   "cell_type": "code",
   "execution_count": 8,
   "metadata": {},
   "outputs": [
    {
     "name": "stdout",
     "output_type": "stream",
     "text": [
      "The solution Q is feasible.\n",
      "x1 = 0.0, x2 = 52.5, x3 = 20.0\n"
     ]
    }
   ],
   "source": [
    "\"\"\" I used the architecture of the code from E4basicLPcode.ipynb (Cf. GitHub repo ) \n",
    "and modified it to fit our new objective function, constraints, and coefficients.\n",
    "I kept the same solver, and simplified the status to only return the two expected outcomes\"\"\"\n",
    "\n",
    "from ortools.linear_solver import pywraplp\n",
    "\n",
    "def create_solver():\n",
    "    # Create the linear solver with the SCIP backend.\n",
    "    solver = pywraplp.Solver.CreateSolver('SCIP')\n",
    "    if not solver:\n",
    "        raise Exception('SCIP solver not available.')\n",
    "    return solver\n",
    "\n",
    "def verify_feasibility_Q():\n",
    "    solver = create_solver()\n",
    "\n",
    "    # Variables x1, x2, x3\n",
    "    x1 = solver.NumVar(0, solver.infinity(), 'x1')\n",
    "    x2 = solver.NumVar(0, solver.infinity(), 'x2')\n",
    "    x3 = solver.NumVar(0, solver.infinity(), 'x3')\n",
    "\n",
    "    # Objective Function: this is a feasibility check, so we can use a dummy objective.\n",
    "    # Here we just minimize x1 which won't affect the feasibility.\n",
    "    objective = solver.Objective()\n",
    "    objective.SetCoefficient(x1, 1)\n",
    "    objective.SetMinimization()\n",
    "\n",
    "    # Constraints\n",
    "    constraint1 = solver.Constraint(-solver.infinity(), 145)\n",
    "    constraint1.SetCoefficient(x1, 5)\n",
    "    constraint1.SetCoefficient(x2, 2)\n",
    "    constraint1.SetCoefficient(x3, 2)\n",
    "\n",
    "    constraint2 = solver.Constraint(-solver.infinity(), 260)\n",
    "    constraint2.SetCoefficient(x1, 4)\n",
    "    constraint2.SetCoefficient(x2, 8)\n",
    "    constraint2.SetCoefficient(x3, -8)\n",
    "\n",
    "    constraint3 = solver.Constraint(-solver.infinity(), 190)\n",
    "    constraint3.SetCoefficient(x1, 1)\n",
    "    constraint3.SetCoefficient(x2, 1)\n",
    "    constraint3.SetCoefficient(x3, 4)\n",
    "\n",
    "    # Set the proposed solution Q as a starting point for the solver\n",
    "    solver.SetHint([x1, x2, x3], [0, 52.5, 20])\n",
    "\n",
    "    # Solve the problem\n",
    "    status = solver.Solve()\n",
    "\n",
    "    # Check and print if the proposed solution Q is feasible\n",
    "    if status == pywraplp.Solver.OPTIMAL or status == pywraplp.Solver.FEASIBLE:\n",
    "        print('The solution Q is feasible.')\n",
    "        print(f'x1 = {x1.solution_value()}, x2 = {x2.solution_value()}, x3 = {x3.solution_value()}')\n",
    "    else:\n",
    "        print('The solution Q is not feasible.')\n",
    "\n",
    "# Call the function to verify the feasibility of Q\n",
    "verify_feasibility_Q()\n"
   ]
  },
  {
   "cell_type": "markdown",
   "metadata": {},
   "source": [
    "**3. Use Complementary Slackness to determine a candidate solution to the dual.**"
   ]
  },
  {
   "cell_type": "markdown",
   "metadata": {},
   "source": [
    "To determine a candidate solution to the dual using Column Generation (CG) and display the simplex tableau at each iteration, I needed to implement a structure that can handle the simplex method and also interact with ortools. Using the structure given to us in class; \n",
    "https://notebook.community/infimath/optimization-method/Simplex%20Tableau%20in%20Python\n",
    "I tried to use this tableau generation method with around my code. \n",
    "\n"
   ]
  },
  {
   "cell_type": "code",
   "execution_count": 9,
   "metadata": {},
   "outputs": [],
   "source": [
    "from __future__ import division\n",
    "import numpy as np\n",
    "from fractions import Fraction\n",
    "\n",
    "class Tableau:\n",
    "    def __init__(self, obj):\n",
    "        self.obj = [1] + obj\n",
    "        self.rows = []\n",
    "        self.cons = []\n",
    "        self.no_variables = len(obj)\n",
    "        self.no_constraints = 0\n",
    "        self.is_fraction = False # set True to output in fraction\n",
    "\n",
    "    def add_constraint(self, expression, value):\n",
    "        self.rows.append([0] + expression)\n",
    "        self.cons.append(value)\n",
    "        self.no_constraints += 1\n",
    "        self.header_tableau = [\"Basic\"] + [\"x\"+str(i+1) for i in range(self.no_variables)] \\\n",
    "                                        + [\"s\"+str(i+1) for i in range(self.no_constraints)] \\\n",
    "                                        + [\"Solution\"]\n",
    "        self.basic_variables = [\"s\"+str(i+1) for i in range(self.no_constraints)]\n",
    "\n",
    "    def _pivot_column(self):\n",
    "        lowest = min(self.obj[1:-1])\n",
    "        if lowest >= 0:\n",
    "            return -1\n",
    "        return self.obj.index(lowest)\n",
    "\n",
    "    def _pivot_row(self, col):\n",
    "        ratios = []\n",
    "        for i, row in enumerate(self.rows):\n",
    "            element = row[col]\n",
    "            if element <= 0:\n",
    "                ratios.append(float('inf'))  # Avoid division by zero and negative ratios\n",
    "            else:\n",
    "                ratios.append(self.rows[i][-1] / element)\n",
    "        return np.argmin(ratios)\n",
    "\n",
    "    def display(self):\n",
    "        if self.is_fraction:\n",
    "            # Formatting the output in fraction\n",
    "            fmt = '{:<8}' + ''.join(['{:>8}'.format(\"x\"+str(i+1)) for i in range(self.no_variables)]) \\\n",
    "                + ''.join(['{:>8}'.format(\"s\"+str(i+1)) for i in range(self.no_constraints)]) + '{:>8}'\n",
    "            print(fmt.format(\"Basic\", *[\"x\"+str(i+1) for i in range(self.no_variables)] + [\"s\"+str(i+1) for i in range(self.no_constraints)] + [\"Sol.\"]))\n",
    "\n",
    "            row_format = '{:<8}' + ''.join(['{:>8}'.format(str(Fraction(x).limit_denominator())) for x in self.obj[1:]])\n",
    "            print(row_format.format(\"z\", *[str(Fraction(x).limit_denominator()) for x in self.obj[1:]]))\n",
    "\n",
    "            for i, row in enumerate(self.rows):\n",
    "                print(row_format.format(self.basic_variables[i], *[str(Fraction(x).limit_denominator()) for x in row[1:]]))\n",
    "        else:\n",
    "            # Formatting the output in float with 2 decimal places\n",
    "            fmt = '{:<8}' + ''.join(['{:>8}'.format(\"x\"+str(i+1)) for i in range(self.no_variables)]) \\\n",
    "                + ''.join(['{:>8}'.format(\"s\"+str(i+1)) for i in range(self.no_constraints)]) + '{:>8}'\n",
    "            print(fmt.format(\"Basic\", *[\"x\"+str(i+1) for i in range(self.no_variables)] + [\"s\"+str(i+1) for i in range(self.no_constraints)] + [\"Sol.\"]))\n",
    "\n",
    "            row_format = '{:<8}' + ''.join(['{:>8.2f}'.format(x) for x in self.obj[1:]])\n",
    "            print(row_format.format(\"z\", *[f'{x:.2f}' for x in self.obj[1:]]))\n",
    "\n",
    "            for i, row in enumerate(self.rows):\n",
    "                print(row_format.format(self.basic_variables[i], *[f'{x:.2f}' for x in row[1:]]))\n",
    "\n",
    "\n",
    "    def _pivot(self, row, col):\n",
    "        pivot_element = self.rows[row][col]\n",
    "        self.rows[row] = [x / pivot_element for x in self.rows[row]]\n",
    "        for r in range(len(self.rows)):\n",
    "            if r != row:\n",
    "                self.rows[r] = [orig - factor * updated for orig, factor, updated in zip(self.rows[r], self.rows[row], [self.rows[r][col]]*len(self.rows[row]))]\n",
    "        self.obj = [z - factor * updated for z, factor, updated in zip(self.obj, self.rows[row], [self.obj[col]]*len(self.obj))]\n",
    "\n",
    "    def _check(self):\n",
    "        return min(self.obj[1:-1]) >= 0\n",
    "\n",
    "    def solve(self):\n",
    "        # Append slack variables and setup tableau\n",
    "        for i in range(len(self.rows)):\n",
    "            identity = [0]*self.no_constraints\n",
    "            identity[i] = 1\n",
    "            self.rows[i] += identity + [self.cons[i]]\n",
    "            self.rows[i] = np.array(self.rows[i], dtype=float)\n",
    "        self.obj = np.array(self.obj + [0]*self.no_constraints, dtype=float)\n",
    "\n",
    "        self.display()\n",
    "        while not self._check():\n",
    "            col = self._pivot_column()\n",
    "            if col == -1:\n",
    "                break\n",
    "            row = self._pivot_row(col)\n",
    "            self._pivot(row, col)\n",
    "            print('\\nEntering Variable: ', self.header_tableau[col])\n",
    "            print('Leaving Variable: ', self.basic_variables[row], '\\n')\n",
    "            self.basic_variables[row] = self.header_tableau[col]\n",
    "            self.display()\n",
    "\n",
    "if __name__ == '__main__':\n",
    "    t = Tableau([-2, -3, -2])\n",
    "    t.add_constraint\n"
   ]
  },
  {
   "cell_type": "markdown",
   "metadata": {},
   "source": [
    "\\begin{align*}\n",
    "\\text{maximize} \\quad & x_1 + 4x_2 + 2x_3 \\\\\n",
    "\\text{subject to} \\quad & 5x_1 + 2x_2 + 2x_3 \\leq 145 \\\\\n",
    "& 4x_1 + 8x_2 - 8x_3 \\leq 260 \\\\\n",
    "& x_1 + x_2 + 4x_3 \\leq 190 \\\\\n",
    "& x \\geq 0\n",
    "\\end{align*}"
   ]
  },
  {
   "cell_type": "code",
   "execution_count": 10,
   "metadata": {},
   "outputs": [
    {
     "name": "stdout",
     "output_type": "stream",
     "text": [
      "Optimal Solution Found:\n",
      "y1 = 1.5\n",
      "y2 = 0.12499999999999994\n",
      "y3 = 0.0\n",
      "Objective value = 250.00000000000003\n"
     ]
    }
   ],
   "source": [
    "from ortools.linear_solver import pywraplp\n",
    "\n",
    "def solve_dual_problem():\n",
    "    # Create the linear solver with the SCIP backend.\n",
    "    solver = pywraplp.Solver.CreateSolver('SCIP')\n",
    "    if not solver:\n",
    "        print('SCIP solver is not available.')\n",
    "        return\n",
    "\n",
    "    # Define variables for the dual problem\n",
    "    # These will correspond to the constraints in the primal problem\n",
    "    y1 = solver.NumVar(0, solver.infinity(), 'y1')\n",
    "    y2 = solver.NumVar(0, solver.infinity(), 'y2')\n",
    "    y3 = solver.NumVar(0, solver.infinity(), 'y3')\n",
    "\n",
    "    # Objective function: Minimize 145*y1 + 260*y2 + 190*y3\n",
    "    objective = solver.Objective()\n",
    "    objective.SetCoefficient(y1, 145)\n",
    "    objective.SetCoefficient(y2, 260)\n",
    "    objective.SetCoefficient(y3, 190)\n",
    "    objective.SetMinimization()\n",
    "\n",
    "    # Constraint 1: 5*y1 + 4*y2 + y3 >= 1\n",
    "    c1 = solver.Constraint(1, solver.infinity())\n",
    "    c1.SetCoefficient(y1, 5)\n",
    "    c1.SetCoefficient(y2, 4)\n",
    "    c1.SetCoefficient(y3, 1)\n",
    "\n",
    "    # Constraint 2: 2*y1 + 8*y2 + y3 >= 4\n",
    "    c2 = solver.Constraint(4, solver.infinity())\n",
    "    c2.SetCoefficient(y1, 2)\n",
    "    c2.SetCoefficient(y2, 8)\n",
    "    c2.SetCoefficient(y3, 1)\n",
    "\n",
    "    # Constraint 3: 2*y1 - 8*y2 + 4*y3 >= 2\n",
    "    c3 = solver.Constraint(2, solver.infinity())\n",
    "    c3.SetCoefficient(y1, 2)\n",
    "    c3.SetCoefficient(y2, -8)\n",
    "    c3.SetCoefficient(y3, 4)\n",
    "\n",
    "    # Solve the problem and print the results\n",
    "    status = solver.Solve()\n",
    "    if status == pywraplp.Solver.OPTIMAL:\n",
    "        print('Optimal Solution Found:')\n",
    "        print('y1 =', y1.solution_value())\n",
    "        print('y2 =', y2.solution_value())\n",
    "        print('y3 =', y3.solution_value())\n",
    "        print('Objective value =', objective.Value())\n",
    "    elif status == pywraplp.Solver.INFEASIBLE:\n",
    "        print('No feasible solution found. The problem is infeasible.')\n",
    "    elif status == pywraplp.Solver.UNBOUNDED:\n",
    "        print('The problem is unbounded.')\n",
    "    else:\n",
    "        print('Solver status is', status)\n",
    "\n",
    "# Run the dual problem solver\n",
    "solve_dual_problem()\n"
   ]
  },
  {
   "cell_type": "markdown",
   "metadata": {},
   "source": [
    "**4. Is $Q$ the optimal solution for the primal problem?**"
   ]
  },
  {
   "cell_type": "code",
   "execution_count": null,
   "metadata": {},
   "outputs": [],
   "source": []
  }
 ],
 "metadata": {
  "kernelspec": {
   "display_name": "Python 3 (ipykernel)",
   "language": "python",
   "name": "python3"
  },
  "language_info": {
   "codemirror_mode": {
    "name": "ipython",
    "version": 3
   },
   "file_extension": ".py",
   "mimetype": "text/x-python",
   "name": "python",
   "nbconvert_exporter": "python",
   "pygments_lexer": "ipython3",
   "version": "3.11.5"
  }
 },
 "nbformat": 4,
 "nbformat_minor": 4
}
